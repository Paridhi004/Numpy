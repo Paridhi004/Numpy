{
 "cells": [
  {
   "cell_type": "markdown",
   "id": "3739ae43",
   "metadata": {},
   "source": [
    "Learn about numpy -> Shift Enter -> new cell"
   ]
  },
  {
   "cell_type": "code",
   "execution_count": 2,
   "id": "6c60798b",
   "metadata": {},
   "outputs": [],
   "source": [
    "import numpy as np"
   ]
  },
  {
   "cell_type": "markdown",
   "id": "d1b1d67a",
   "metadata": {},
   "source": [
    "Creating array from list"
   ]
  },
  {
   "cell_type": "code",
   "execution_count": 3,
   "id": "1e2acc10",
   "metadata": {},
   "outputs": [
    {
     "name": "stdout",
     "output_type": "stream",
     "text": [
      "[1 2 3 4 5]\n",
      "[[1 2 3 4]\n",
      " [4 5 6 7]]\n"
     ]
    }
   ],
   "source": [
    "arr_1d = np.array([1 , 2 , 3 , 4 , 5]) # it takes only one argument -> list\n",
    "print(arr_1d)\n",
    "\n",
    "# numpy array generally takes same type of values.\n",
    "arr_2d = np.array([[1 , 2 , 3 , 4] , [4 , 5 , 6 , 7]])\n",
    "print(arr_2d)"
   ]
  },
  {
   "cell_type": "markdown",
   "id": "39b2fbdb",
   "metadata": {},
   "source": [
    "List V/s Numpy Array"
   ]
  },
  {
   "cell_type": "code",
   "execution_count": 4,
   "id": "a92d81e0",
   "metadata": {},
   "outputs": [
    {
     "name": "stdout",
     "output_type": "stream",
     "text": [
      "[1, 2, 3, 1, 2, 3]\n",
      "[2 4 6]\n"
     ]
    }
   ],
   "source": [
    "py_List = [1 , 2 , 3]\n",
    "print(py_List*2) # [1, 2, 3, 1, 2, 3]\n",
    "\n",
    "np_array = np.array([1 , 2 , 3]) \n",
    "print(np_array*2) # element wise multiplication -> [2 , 4 , 6]\n",
    "\n"
   ]
  },
  {
   "cell_type": "markdown",
   "id": "5f4035a8",
   "metadata": {},
   "source": [
    "Python List Operation:\n",
    "\n",
    "1. Records the start time.\n",
    "\n",
    "2. Creates a list (py_list) with 1,000,000 elements, each being i*2.\n",
    "Example: [0, 2, 4, 6, 8, ..., 1999998]\n",
    "\n",
    "3. Measures how long it takes and prints the duration.\n",
    "\n",
    "4. This uses pure Python list comprehension, which is slower because it loops through each element in Python’s interpreter."
   ]
  },
  {
   "cell_type": "code",
   "execution_count": 5,
   "id": "184105c1",
   "metadata": {},
   "outputs": [
    {
     "name": "stdout",
     "output_type": "stream",
     "text": [
      "\n",
      " List operation time:  0.14409399032592773\n"
     ]
    }
   ],
   "source": [
    "import time\n",
    "start = time.time() #  starting time \n",
    "py_list = [i*2 for i in range(1000000)]\n",
    "print(\"\\n List operation time: \", time.time() - start) # here time.time() gives the finishing time\n",
    "#  0.1728177070617675"
   ]
  },
  {
   "cell_type": "markdown",
   "id": "b667d665",
   "metadata": {},
   "source": [
    "NumPy Array Operation:\n",
    "1. Records the start time again.\n",
    "\n",
    "2. Creates a NumPy array with values from 0 to 999,999.\n",
    "\n",
    "3. Multiplies the entire array by 2 in one vectorized operation.\n",
    "\n",
    "4. Prints the time taken.\n",
    "\n",
    "⚡ This is much faster because:\n",
    "a. NumPy is implemented in C (low-level, optimized).\n",
    "b. Uses vectorization (applies operations on whole arrays at once instead of looping element by element)."
   ]
  },
  {
   "cell_type": "code",
   "execution_count": 6,
   "id": "9be8d2ff",
   "metadata": {},
   "outputs": [
    {
     "name": "stdout",
     "output_type": "stream",
     "text": [
      "\n",
      " Numpy operation time:  0.006808757781982422\n"
     ]
    }
   ],
   "source": [
    "import time\n",
    "start = time.time()\n",
    "np_array = np.arange(1000000) * 2\n",
    "print(\"\\n Numpy operation time: \", time.time() - start) #   0.019168376922607422"
   ]
  },
  {
   "cell_type": "markdown",
   "id": "3922bc49",
   "metadata": {},
   "source": [
    "Creating Array From Scratch"
   ]
  },
  {
   "cell_type": "code",
   "execution_count": 7,
   "id": "8c9253bb",
   "metadata": {},
   "outputs": [
    {
     "name": "stdout",
     "output_type": "stream",
     "text": [
      "[[0. 0. 0. 0.]\n",
      " [0. 0. 0. 0.]\n",
      " [0. 0. 0. 0.]]\n",
      "[[1. 1. 1.]\n",
      " [1. 1. 1.]]\n",
      "[[7 7]\n",
      " [7 7]]\n"
     ]
    }
   ],
   "source": [
    "zeros = np.zeros((3 , 4)) # this creates a array containing zeros of size -> 3 rows , 4 cols\n",
    "print(zeros) \n",
    "\n",
    "ones = np.ones((2 , 3)) # this creates a array containing ones of size -> 2 rows , 3 cols\n",
    "print(ones)\n",
    "\n",
    "# Now , what if u want constants other than 0 , 1:\n",
    "full = np.full((2 , 2) , 7) # (2 , 2) -> size  of matrix , 7 -> the const u want.\n",
    "print(full) # [[7 7],  [7 7]]"
   ]
  },
  {
   "cell_type": "markdown",
   "id": "de117b63",
   "metadata": {},
   "source": [
    "Random Class:"
   ]
  },
  {
   "cell_type": "code",
   "execution_count": null,
   "id": "325e9623",
   "metadata": {},
   "outputs": [
    {
     "name": "stdout",
     "output_type": "stream",
     "text": [
      "[[0.67924099 0.77033698 0.88830257]\n",
      " [0.99419433 0.35780609 0.93265021]]\n",
      "[0.64062914 0.75548866 0.36783384 0.31713968 0.29426954]\n",
      "0.6409715429519782\n",
      "[0 1 2 3 4 5 6 7 8 9]\n"
     ]
    }
   ],
   "source": [
    "random = np.random.random((2,3)) # This creates a 2x3 matrix of random floating point no.s b/w 0 and 1\n",
    "print(random)\n",
    "\n",
    "random2 = np.random.random(5) # 1D array of length 5.\n",
    "print(random2)\n",
    "\n",
    "print(np.random.random()) # returns a floating no. b/w 0 and 1\n",
    "\n",
    "sequence = np.arange(0, 10, 1) # Generates a sequence of evenly spaced numbers.\n",
    "#Similar to Python’s built-in range(), but returns a NumPy array.\n",
    "print(sequence) # [0 1 2 3 4 5 6 7 8 9]\n",
    "\n",
    "# here , You specify:\n",
    "# start (default = 0),\n",
    "# stop (not included),\n",
    "# step (default = 1)."
   ]
  },
  {
   "cell_type": "markdown",
   "id": "30f50671",
   "metadata": {},
   "source": [
    "Vector , Matrix and Tensor"
   ]
  },
  {
   "cell_type": "code",
   "execution_count": null,
   "id": "2d3c14e6",
   "metadata": {},
   "outputs": [
    {
     "name": "stdout",
     "output_type": "stream",
     "text": [
      "[1 2 3]\n",
      "[1 2 3]\n",
      "[[1 2 3]\n",
      " [4 5 6]]\n",
      "0D: 42 Shape: ()\n",
      "[[[1 2]\n",
      "  [3 4]]\n",
      "\n",
      " [[5 6]\n",
      "  [7 8]]]\n"
     ]
    }
   ],
   "source": [
    "vector = np.array([1,2,3]) # Vector is a 1D Tensor\n",
    "print(vector)\n",
    "\n",
    "matrix = np.array([[1,2,3],[4 , 5 , 6]]) # Matrix is a 2D Tensor\n",
    "print(vector)\n",
    "print(matrix)\n",
    "\n",
    "# 0D Tensor (scalar)\n",
    "t0 = np.array(42)\n",
    "print(t0)\n",
    "\n",
    "# 3D Tensor\n",
    "tensor = np.array([[[1,2] , [3,4]] ,\n",
    "                    [[5,6] , [7,8]]]) # tensor in numpy consists of multidimenstional array.\n",
    "print(tensor)"
   ]
  },
  {
   "cell_type": "markdown",
   "id": "7dbea65f",
   "metadata": {},
   "source": [
    "Array Properties:"
   ]
  },
  {
   "cell_type": "code",
   "execution_count": null,
   "id": "510ac87c",
   "metadata": {},
   "outputs": [
    {
     "name": "stdout",
     "output_type": "stream",
     "text": [
      "Shape:  (2, 3)\n",
      "Dimention 2\n",
      "Size:  6\n",
      "DataType:  int64\n"
     ]
    }
   ],
   "source": [
    "arr = np.array([[1 , 2 , 3] , [4 , 5 , 6]])\n",
    "\n",
    "# Prop1 -> Shape of array\n",
    "print(\"Shape: \", arr.shape) # It gives no. of rows and cols. =>  Shape:  (2, 3)\n",
    "# Prop2 -> Dimention of array\n",
    "print(\"Dimention\", arr.ndim)\n",
    "print(\"Size: \", arr.size) # returns no. of elements in array.\n",
    "print(\"DataType: \" , arr.dtype) # returns type of array.\n",
    "\n",
    "\n",
    "# Note:\n",
    "# If you mix types while creating an array, NumPy will upcast \n",
    "# (convert everything to the most general type that can hold all values).\n",
    "# If each element had a different type, NumPy couldn’t store them contiguously \n",
    "# in memory or use optimized C operations. So each element should be of same type."
   ]
  },
  {
   "cell_type": "markdown",
   "id": "f7d3472a",
   "metadata": {},
   "source": [
    "Array Operations"
   ]
  },
  {
   "cell_type": "code",
   "execution_count": null,
   "id": "b9048c90",
   "metadata": {},
   "outputs": [],
   "source": [
    "arr = np.arange(12)\n",
    "print(\"Original array \", arr)\n",
    "\n",
    "reshaped = arr.reshape((3, 4)) # original arr gets converted into 3x4 matrix.\n",
    "print(\"\\n Reshaped array \", reshaped)\n",
    "\n",
    "flattened = reshaped.flatten() # returns the 1D copy of  array\n",
    "print(\"\\n Flattened array \", flattened)\n",
    "\n",
    "# ravel (returns view, instead of copy) => returns original arr.\n",
    "raveled = reshaped.ravel()\n",
    "print(\"\\n raveled array \", raveled)\n",
    "\n",
    "# Transpose\n",
    "transpose = reshaped.T\n",
    "print(\"\\n Transposed array \", transpose)\n",
    "\n",
    "\n",
    "# In NumPy, a view means that two arrays share the same data in memory.\n",
    "# So if you change one, the other also changes.\n",
    "\n",
    "# 🔹 reshape\n",
    "# Changes the shape of the array without changing data.\n",
    "# Number of elements must stay the same.\n",
    "# Returns a view (no copy, unless needed).\n",
    "# You can use -1 to auto-calculate a dimension.\n",
    "\n",
    "# 🔹 flatten\n",
    "# Converts array into 1D.\n",
    "# Always returns a copy (independent of original).\n",
    "# Original array is unaffected.\n",
    "\n",
    "# 🔹 ravel\n",
    "# Converts array into 1D.\n",
    "# Returns a view if possible, otherwise a copy.\n",
    "# If it’s a view, modifying it will also modify the original."
   ]
  }
 ],
 "metadata": {
  "kernelspec": {
   "display_name": "Python 3",
   "language": "python",
   "name": "python3"
  },
  "language_info": {
   "codemirror_mode": {
    "name": "ipython",
    "version": 3
   },
   "file_extension": ".py",
   "mimetype": "text/x-python",
   "name": "python",
   "nbconvert_exporter": "python",
   "pygments_lexer": "ipython3",
   "version": "3.12.0"
  }
 },
 "nbformat": 4,
 "nbformat_minor": 5
}
