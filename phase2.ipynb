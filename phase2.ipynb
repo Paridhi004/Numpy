{
 "cells": [
  {
   "cell_type": "markdown",
   "id": "dfe7cbe1",
   "metadata": {},
   "source": [
    "## Numpy Array Operation"
   ]
  },
  {
   "cell_type": "code",
   "execution_count": 1,
   "id": "007fa436",
   "metadata": {},
   "outputs": [],
   "source": [
    "import numpy as np"
   ]
  },
  {
   "cell_type": "code",
   "execution_count": 3,
   "id": "b23fb9da",
   "metadata": {},
   "outputs": [
    {
     "name": "stdout",
     "output_type": "stream",
     "text": [
      "Basic Slicing [3 4 5 6 7]\n",
      "With Step [2 4 6 8]\n",
      "Negative indexing 8\n"
     ]
    }
   ],
   "source": [
    "arr = np.array([1, 2, 3, 4, 5, 6, 7, 8, 9, 10])\n",
    "print(\"Basic Slicing\", arr[2:7])\n",
    "print(\"With Step\", arr[1:8:2])\n",
    "print(\"Negative indexing\", arr[-3])"
   ]
  },
  {
   "cell_type": "code",
   "execution_count": 5,
   "id": "f5c7f8f8",
   "metadata": {},
   "outputs": [
    {
     "name": "stdout",
     "output_type": "stream",
     "text": [
      "Specific element 6\n",
      "Entire row:  [4 5 6]\n",
      "Entire Col:  [2 5 8]\n"
     ]
    }
   ],
   "source": [
    "arr_2d = np.array([[1, 2, 3],\n",
    "                   [4, 5, 6],\n",
    "                   [7, 8, 9]])\n",
    "print(\"Specific element\", arr_2d[1, 2]) # with lists in python you must use two separate brackets (arr_2d[1][2]).\n",
    "#arr_2d[1, 2] will give an error, because lists don’t understand tuple indexing.\n",
    "print(\"Entire row: \", arr_2d[1])\n",
    "print(\"Entire Col: \", arr_2d[:, 1]) # ERROR in Python lists [: => every row]\n",
    "\n",
    "# col = [row[1] for row in arr_2d] => This is how u print col in python.\n",
    "# print(col)"
   ]
  },
  {
   "cell_type": "markdown",
   "id": "46bc898b",
   "metadata": {},
   "source": [
    "## Sorting"
   ]
  },
  {
   "cell_type": "code",
   "execution_count": null,
   "id": "761155f9",
   "metadata": {},
   "outputs": [
    {
     "name": "stdout",
     "output_type": "stream",
     "text": [
      "Sorted Array [1 1 2 3 4 5 6 9]\n",
      "Sorted 2D array by column [[1 1]\n",
      " [2 2]\n",
      " [3 3]]\n"
     ]
    }
   ],
   "source": [
    "unsorted = np.array([3, 1, 4, 1, 5, 9, 2, 6])\n",
    "print(\"Sorted Array\", np.sort(unsorted))\n",
    "\n",
    "arr_2d_unsorted = np.array([[3, 1], [1, 2], [2, 3]])\n",
    "print(\"Sorted 2D array by column\", np.sort(arr_2d_unsorted, axis=0)) # axis = 0 => col wise sorting or 1 => row wise sorting"
   ]
  },
  {
   "cell_type": "markdown",
   "id": "a68d3152",
   "metadata": {},
   "source": [
    "## Filtering"
   ]
  },
  {
   "cell_type": "code",
   "execution_count": null,
   "id": "ad5b972d",
   "metadata": {},
   "outputs": [
    {
     "name": "stdout",
     "output_type": "stream",
     "text": [
      "Even numbers [ 2  4  6  8 10]\n"
     ]
    }
   ],
   "source": [
    "numbers = np.array([1, 2, 3, 4, 5, 6, 7, 8, 9, 10])\n",
    "even_number = numbers[numbers % 2 == 0] # filter numbers for even values.\n",
    "print(\"Even numbers\", even_number)\n",
    "\n",
    "# What's happening here:\n",
    "\n",
    "# numbers % 2  => It is a mask\n",
    "# == 0 → creates a boolean mask (True for even, False for odd).\n",
    "# numbers[...] → NumPy uses that mask to pick only the elements where the condition is True.\n",
    "# ✅ Final result → all even numbers from the array."
   ]
  },
  {
   "cell_type": "markdown",
   "id": "af57bb29",
   "metadata": {},
   "source": [
    "## Filter with mask"
   ]
  },
  {
   "cell_type": "code",
   "execution_count": null,
   "id": "7f708e4e",
   "metadata": {},
   "outputs": [
    {
     "name": "stdout",
     "output_type": "stream",
     "text": [
      "Numbers greater than 5  [ 6  7  8  9 10]\n"
     ]
    }
   ],
   "source": [
    "mask = numbers > 5\n",
    "print(\"Numbers greater than 5 \", numbers[mask])\n",
    "\n",
    "# mask = [False False False False False  True  True  True  True  True]\n",
    "\n",
    "# numbers[mask] -> Uses the boolean mask to filter elements from numbers.\n",
    "#Wherever mask is True, it picks the element."
   ]
  },
  {
   "cell_type": "markdown",
   "id": "5bdb3985",
   "metadata": {},
   "source": [
    "## Fancy indexing VS np.where()"
   ]
  },
  {
   "cell_type": "code",
   "execution_count": null,
   "id": "68f5eb6f",
   "metadata": {},
   "outputs": [
    {
     "name": "stdout",
     "output_type": "stream",
     "text": [
      "[1 3 5]\n",
      "(array([5, 6, 7, 8, 9]),)\n",
      "NP where [ 6  7  8  9 10]\n"
     ]
    }
   ],
   "source": [
    "indices = [0, 2, 4]\n",
    "print(numbers[indices]) # [1 3 5]\n",
    "\n",
    "where_result = np.where(numbers > 5) # np.where returns the indices where the condition is True.\n",
    "print(where_result)# [5, 6, 7, 8, 9]\n",
    "print(\"NP where\", numbers[where_result]) # At indices [5,6,7,8,9] → values [6,7,8,9,10]."
   ]
  },
  {
   "cell_type": "markdown",
   "id": "b4ec3f34",
   "metadata": {},
   "source": [
    "1. Boolean Masking\n",
    "\n",
    "Syntax:\n",
    "numbers[numbers > 5]\n",
    "\n",
    "\n",
    "✅ Use it when:\n",
    "1. You want the actual values that satisfy a condition.\n",
    "2. You don’t care about the indices.\n",
    "3. Code should be short and readable.\n",
    "\n",
    "👉 Example:\n",
    "\n",
    "numbers = np.arange(1, 11)\n",
    "print(numbers[numbers % 2 == 0])  \n",
    " [ 2  4  6  8 10]\n",
    "\n",
    "🔹 2. np.where\n",
    "\n",
    "Syntax:\n",
    "np.where(condition)\n",
    "\n",
    "\n",
    "✅ Use it when:\n",
    "1. You need the indices of elements that satisfy a condition.\n",
    "2. Or when using the 3-argument form (like inline if-else).\n",
    "\n",
    "👉 Example 1 (indices):\n",
    "\n",
    "idx = np.where(numbers > 5)\n",
    "print(idx)               # (array([5, 6, 7, 8, 9]),)\n",
    "print(numbers[idx])      # [ 6  7  8  9 10]\n",
    "\n",
    "\n",
    "👉 Example 2 (if-else replacement):\n",
    "\n",
    "result = np.where(numbers % 2 == 0, \"even\", \"odd\")\n",
    "print(result)\n",
    " ['odd' 'even' 'odd' 'even' ...]"
   ]
  },
  {
   "cell_type": "code",
   "execution_count": null,
   "id": "6f76de29",
   "metadata": {},
   "outputs": [
    {
     "name": "stdout",
     "output_type": "stream",
     "text": [
      "['false' 'false' 'false' 'false' 'false' '12' '14' '16' '18' '20']\n"
     ]
    }
   ],
   "source": [
    "condition_array = np.where(numbers > 5, numbers*2,  \"false\") # creating an array that fullfils some conditions.\n",
    "print(condition_array)\n",
    "\n",
    "# if numbers > 5 is true then do numbers*2 else return false. \n",
    "# ['false' 'false' 'false' 'false' 'false' '12' '14' '16' '18' '20']\n",
    "\n",
    "# With masking and np.where, a new array is created.\n",
    "#The original (numbers) does not change unless you explicitly assign back."
   ]
  },
  {
   "cell_type": "markdown",
   "id": "a972a16f",
   "metadata": {},
   "source": [
    "## Adding and Removing Data"
   ]
  },
  {
   "cell_type": "code",
   "execution_count": 14,
   "id": "301b23b3",
   "metadata": {},
   "outputs": [
    {
     "name": "stdout",
     "output_type": "stream",
     "text": [
      "[5 7 9]\n",
      "[1 2 3 4 5 6]\n"
     ]
    }
   ],
   "source": [
    "arr1 = np.array([1,2,3])\n",
    "arr2 = np.array([4,5,6])\n",
    "\n",
    "combined = arr1 + arr2 \n",
    "print(combined) # [5 7 9]\n",
    "\n",
    "combined2 = np.concatenate((arr1, arr2))\n",
    "print(combined2)\n"
   ]
  },
  {
   "cell_type": "markdown",
   "id": "65c0f0f5",
   "metadata": {},
   "source": [
    "## Array Compatibility"
   ]
  },
  {
   "cell_type": "code",
   "execution_count": 16,
   "id": "59cff599",
   "metadata": {},
   "outputs": [
    {
     "name": "stdout",
     "output_type": "stream",
     "text": [
      "Compatibility shapes False\n",
      "Compatibility shapes True\n"
     ]
    }
   ],
   "source": [
    "a = np.array([1, 2, 3])\n",
    "b = np.array([4, 5, 6, 7])\n",
    "c = np.array([7, 8, 9])\n",
    "\n",
    "print(\"Compatibility shapes\", a.shape == b.shape)\n",
    "print(\"Compatibility shapes\", a.shape == c.shape)"
   ]
  },
  {
   "cell_type": "markdown",
   "id": "a86e822e",
   "metadata": {},
   "source": [
    "## How to add a new row and col in array?"
   ]
  },
  {
   "cell_type": "code",
   "execution_count": 21,
   "id": "210548f6",
   "metadata": {},
   "outputs": [
    {
     "name": "stdout",
     "output_type": "stream",
     "text": [
      "[[1 2]\n",
      " [3 4]]\n",
      "[[1 2]\n",
      " [3 4]\n",
      " [5 6]]\n",
      " With new column \n",
      " [[1 2 7]\n",
      " [3 4 8]]\n"
     ]
    }
   ],
   "source": [
    "original = np.array([[1, 2], [3, 4]])\n",
    "new_row = np.array([[5, 6]])\n",
    "\n",
    "with_new_row = np.vstack((original, new_row)) # vertical stack -> adds a new row\n",
    "print(original)\n",
    "print(with_new_row)\n",
    "\n",
    "new_col = np.array([[7], [8]])\n",
    "with_new_col = np.hstack((original, new_col)) # horizontal stack -> adds a new col\n",
    "print(\" With new column \\n\", with_new_col)"
   ]
  },
  {
   "cell_type": "markdown",
   "id": "2d9e96f5",
   "metadata": {},
   "source": [
    "## How to delete?\n",
    "\n",
    "Syntax:\n",
    "\n",
    "np.delete(arr, obj, axis=None)\n",
    "\n",
    "1. arr → input array \n",
    "2. obj → index(es) of elements/subarrays to remove \n",
    "3. axis → \n",
    "        1. None (default) → flatten the array before deletion , 0 → delete rows , 1 → delete columns"
   ]
  },
  {
   "cell_type": "code",
   "execution_count": null,
   "id": "1976b42b",
   "metadata": {},
   "outputs": [
    {
     "name": "stdout",
     "output_type": "stream",
     "text": [
      "Array after deletion:  [1 2 4 5]\n",
      "[1 3 5]\n"
     ]
    }
   ],
   "source": [
    "arr = np.array([1, 2, 3, 4, 5])\n",
    "deleted = np.delete(arr, 2) # delete element at index 2 and returns rest of the array.\n",
    "print(\"Array after deletion: \", deleted)\n",
    "\n",
    "#2. Delete multiple elements\n",
    "arr = np.array([1, 2, 3, 4, 5])\n",
    "new_arr = np.delete(arr, [1, 3])  # delete indices 1 and 3\n",
    "print(new_arr)\n",
    "# [1 3 5]\n",
    "\n",
    "# 3. Delete row from 2D array\n",
    "arr_2d = np.array([[1, 2, 3],\n",
    "                   [4, 5, 6],\n",
    "                   [7, 8, 9]])\n",
    "\n",
    "new_arr = np.delete(arr_2d, 1, axis=0)  # delete row at index 1\n",
    "print(new_arr)\n",
    "# [[1 2 3]\n",
    "#  [7 8 9]]\n",
    "\n",
    "# 4. Delete column from 2D array\n",
    "new_arr = np.delete(arr_2d, 0, axis=1)  # delete column at index 0\n",
    "print(new_arr)\n",
    "# [[2 3]\n",
    "#  [5 6]\n",
    "#  [8 9]]\n",
    "\n",
    "\n",
    "# Important Notes\n",
    "# np.delete does not modify the original array. It creates and returns a new array.\n",
    "# If you want in-place deletion, you’d need to reassign:\n",
    "\n",
    "# arr = np.delete(arr, 2)"
   ]
  }
 ],
 "metadata": {
  "kernelspec": {
   "display_name": "Python 3",
   "language": "python",
   "name": "python3"
  },
  "language_info": {
   "codemirror_mode": {
    "name": "ipython",
    "version": 3
   },
   "file_extension": ".py",
   "mimetype": "text/x-python",
   "name": "python",
   "nbconvert_exporter": "python",
   "pygments_lexer": "ipython3",
   "version": "3.12.0"
  }
 },
 "nbformat": 4,
 "nbformat_minor": 5
}
